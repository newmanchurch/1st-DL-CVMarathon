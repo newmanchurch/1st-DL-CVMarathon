{
 "cells": [
  {
   "cell_type": "code",
   "execution_count": 9,
   "metadata": {},
   "outputs": [],
   "source": [
    "import cv2\n",
    "import numpy as np\n",
    "img_path = 'data/lena.png'\n",
    "img = cv2.imread(img_path, cv2.IMREAD_COLOR)\n",
    "img_hsv = cv2.cvtColor(img, cv2.COLOR_BGR2HSV)"
   ]
  },
  {
   "cell_type": "code",
   "execution_count": 10,
   "metadata": {},
   "outputs": [],
   "source": [
    "cv2.imshow('hsv', img_hsv)\n",
    "cv2.waitKey(0)\n",
    "cv2.destroyAllWindows()"
   ]
  },
  {
   "cell_type": "markdown",
   "metadata": {},
   "source": [
    "## 改變飽和度"
   ]
  },
  {
   "cell_type": "code",
   "execution_count": 234,
   "metadata": {},
   "outputs": [],
   "source": [
    "\n",
    "change_percentage = 0.2\n",
    "# update the 2nd dimension of image depth, index is 1\n",
    "img_hsv_down = img_hsv.astype('float32')\n",
    "img_hsv_down[:,:, 1] = img_hsv_down[:,:, 1]/255 - change_percentage\n",
    "img_hsv_down[img_hsv_down[:,:, 1] < 0] = 0\n",
    "img_hsv_down[:,:, 1] = img_hsv_down[:,:, 1]*255\n",
    "img_hsv_down = img_hsv_down.astype('uint8')"
   ]
  },
  {
   "cell_type": "code",
   "execution_count": 235,
   "metadata": {},
   "outputs": [],
   "source": [
    "# update the 2nd dimension of image depth, index is 1\n",
    "img_hsv_up = img_hsv.astype('float32')\n",
    "img_hsv_up[:,:, 1] = img_hsv_up[:,:, 1]/255 + change_percentage\n",
    "img_hsv_up[img_hsv_up[:,:, 1] > 1] = 1\n",
    "img_hsv_up[:,:, 1] = img_hsv_up[:,:, 1]*255\n",
    "img_hsv_up = img_hsv_up.astype('uint8')"
   ]
  },
  {
   "cell_type": "code",
   "execution_count": 236,
   "metadata": {},
   "outputs": [],
   "source": [
    "img_hsv_down = cv2.cvtColor(img_hsv_down, cv2.COLOR_HSV2BGR)\n",
    "img_hsv_up = cv2.cvtColor(img_hsv_up, cv2.COLOR_HSV2BGR)"
   ]
  },
  {
   "cell_type": "code",
   "execution_count": 237,
   "metadata": {},
   "outputs": [],
   "source": [
    "img_hsv_change = np.hstack((img, img_hsv_down, img_hsv_up))"
   ]
  },
  {
   "cell_type": "code",
   "execution_count": 238,
   "metadata": {},
   "outputs": [],
   "source": [
    "cv2.imshow('change saturation', img_hsv_change)\n",
    "cv2.waitKey(0)\n",
    "cv2.destroyAllWindows()"
   ]
  },
  {
   "cell_type": "markdown",
   "metadata": {},
   "source": [
    "## 直方圖均衡"
   ]
  },
  {
   "cell_type": "code",
   "execution_count": 239,
   "metadata": {},
   "outputs": [
    {
     "data": {
      "text/plain": [
       "array([[216, 216, 205, ..., 226, 197, 135],\n",
       "       [216, 216, 205, ..., 226, 197, 135],\n",
       "       [216, 216, 205, ..., 226, 197, 135],\n",
       "       ...,\n",
       "       [  8,   8,  19, ...,  90,  89,  97],\n",
       "       [  6,   6,  25, ..., 101, 103, 109],\n",
       "       [  6,   6,  25, ..., 101, 103, 109]], dtype=uint8)"
      ]
     },
     "execution_count": 239,
     "metadata": {},
     "output_type": "execute_result"
    }
   ],
   "source": [
    "img = cv2.imread(img_path, cv2.IMREAD_COLOR)\n",
    "# case 1\n",
    "# 每個 channel 個別做直方圖均衡\n",
    "equalHist_by_channel = cv2.imread(img_path, cv2.IMREAD_COLOR)\n",
    "channels = cv2.split(img)\n",
    "cv2.equalizeHist(channels[0], channels[0])\n",
    "cv2.equalizeHist(channels[1], channels[1])\n",
    "cv2.equalizeHist(channels[2], channels[2])"
   ]
  },
  {
   "cell_type": "code",
   "execution_count": 240,
   "metadata": {},
   "outputs": [],
   "source": [
    "# 組合經過直方圖均衡的每個 channel\n",
    "cv2.merge(channels, equalHist_by_channel)\n",
    "img_bgr_equalHist = np.hstack((img, equalHist_by_channel))"
   ]
  },
  {
   "cell_type": "code",
   "execution_count": 241,
   "metadata": {},
   "outputs": [],
   "source": [
    "cv2.imshow('bgr equal by channel', img_bgr_equalHist)\n",
    "cv2.waitKey(0)\n",
    "cv2.destroyAllWindows()"
   ]
  },
  {
   "cell_type": "code",
   "execution_count": 251,
   "metadata": {},
   "outputs": [],
   "source": [
    "# case 2 - 轉換 color space 後只對其中一個 channel 做直方圖均衡\n",
    "img_hsv_equal = cv2.cvtColor(img, cv2.COLOR_BGR2HSV)\n",
    "channels = cv2.split(img_hsv_equal)\n",
    "cv2.equalizeHist(channels[2], channels[2])\n",
    "# 組合圖片 + 顯示圖片\n",
    "cv2.merge(channels, img_hsv_equal)\n",
    "img_hsv_equal = cv2.cvtColor(img_hsv_equal, cv2.COLOR_HSV2BGR)\n",
    "img_bgr_equalHist = np.hstack((img, equalHist_by_channel, img_hsv_equal))\n",
    "cv2.imshow('bgr equal by every channel and only one channel', img_bgr_equalHist)\n",
    "cv2.waitKey(0)\n",
    "cv2.destroyAllWindows()"
   ]
  },
  {
   "cell_type": "markdown",
   "metadata": {},
   "source": [
    "## 調整對比和明亮"
   ]
  },
  {
   "cell_type": "code",
   "execution_count": 4,
   "metadata": {},
   "outputs": [
    {
     "ename": "NameError",
     "evalue": "name 'cv2' is not defined",
     "output_type": "error",
     "traceback": [
      "\u001b[1;31m---------------------------------------------------------------------------\u001b[0m",
      "\u001b[1;31mNameError\u001b[0m                                 Traceback (most recent call last)",
      "\u001b[1;32m<ipython-input-4-dd44bc782d5c>\u001b[0m in \u001b[0;36m<module>\u001b[1;34m\u001b[0m\n\u001b[1;32m----> 1\u001b[1;33m \u001b[0mimg\u001b[0m \u001b[1;33m=\u001b[0m \u001b[0mcv2\u001b[0m\u001b[1;33m.\u001b[0m\u001b[0mimread\u001b[0m\u001b[1;33m(\u001b[0m\u001b[0mimg_path\u001b[0m\u001b[1;33m,\u001b[0m \u001b[0mcv2\u001b[0m\u001b[1;33m.\u001b[0m\u001b[0mIMREAD_COLOR\u001b[0m\u001b[1;33m)\u001b[0m\u001b[1;33m\u001b[0m\u001b[1;33m\u001b[0m\u001b[0m\n\u001b[0m\u001b[0;32m      2\u001b[0m \u001b[1;31m# alpha: 控制對比度 (1.0~3.0)\u001b[0m\u001b[1;33m\u001b[0m\u001b[1;33m\u001b[0m\u001b[1;33m\u001b[0m\u001b[0m\n\u001b[0;32m      3\u001b[0m \u001b[1;31m# beta: 控制明亮度 (0~255)\u001b[0m\u001b[1;33m\u001b[0m\u001b[1;33m\u001b[0m\u001b[1;33m\u001b[0m\u001b[0m\n\u001b[0;32m      4\u001b[0m \u001b[0madd_contrast\u001b[0m \u001b[1;33m=\u001b[0m \u001b[0mcv2\u001b[0m\u001b[1;33m.\u001b[0m\u001b[0mconvertScaleAbs\u001b[0m\u001b[1;33m(\u001b[0m\u001b[0mimg\u001b[0m\u001b[1;33m,\u001b[0m \u001b[0malpha\u001b[0m\u001b[1;33m=\u001b[0m\u001b[1;36m2.0\u001b[0m\u001b[1;33m,\u001b[0m \u001b[0mbeta\u001b[0m\u001b[1;33m=\u001b[0m\u001b[1;36m0\u001b[0m\u001b[1;33m)\u001b[0m\u001b[1;33m\u001b[0m\u001b[1;33m\u001b[0m\u001b[0m\n\u001b[0;32m      5\u001b[0m \u001b[0madd_lighness\u001b[0m \u001b[1;33m=\u001b[0m \u001b[0mcv2\u001b[0m\u001b[1;33m.\u001b[0m\u001b[0mconvertScaleAbs\u001b[0m\u001b[1;33m(\u001b[0m\u001b[0mimg\u001b[0m\u001b[1;33m,\u001b[0m \u001b[0malpha\u001b[0m\u001b[1;33m=\u001b[0m\u001b[1;36m1.0\u001b[0m\u001b[1;33m,\u001b[0m \u001b[0mbeta\u001b[0m\u001b[1;33m=\u001b[0m\u001b[1;36m50\u001b[0m\u001b[1;33m)\u001b[0m\u001b[1;33m\u001b[0m\u001b[1;33m\u001b[0m\u001b[0m\n",
      "\u001b[1;31mNameError\u001b[0m: name 'cv2' is not defined"
     ]
    }
   ],
   "source": [
    "img = cv2.imread(img_path, cv2.IMREAD_COLOR)\n",
    "# alpha: 控制對比度 (1.0~3.0)\n",
    "# beta: 控制明亮度 (0~255)\n",
    "add_contrast = cv2.convertScaleAbs(img, alpha=2.0, beta=0)\n",
    "add_lighness = cv2.convertScaleAbs(img, alpha=1.0, beta=50)\n",
    "\n",
    "# 組合圖片 + 顯示圖片\n",
    "img_contrast_light = np.hstack((img, add_contrast, add_lighness))\n",
    "cv2.imshow('adjust contrast and brighness', img_contrast_light)\n",
    "cv2.waitKey(0)\n",
    "cv2.destroyAllWindows()"
   ]
  },
  {
   "cell_type": "code",
   "execution_count": 2,
   "metadata": {},
   "outputs": [],
   "source": [
    "from matplotlib import pyplot as plt"
   ]
  },
  {
   "cell_type": "code",
   "execution_count": 3,
   "metadata": {},
   "outputs": [
    {
     "ename": "NameError",
     "evalue": "name 'img_contrast_light' is not defined",
     "output_type": "error",
     "traceback": [
      "\u001b[1;31m---------------------------------------------------------------------------\u001b[0m",
      "\u001b[1;31mNameError\u001b[0m                                 Traceback (most recent call last)",
      "\u001b[1;32m<ipython-input-3-7f715a9e0473>\u001b[0m in \u001b[0;36m<module>\u001b[1;34m\u001b[0m\n\u001b[1;32m----> 1\u001b[1;33m \u001b[0mplt\u001b[0m\u001b[1;33m.\u001b[0m\u001b[0mimshow\u001b[0m\u001b[1;33m(\u001b[0m\u001b[0mimg_contrast_light\u001b[0m\u001b[1;33m)\u001b[0m\u001b[1;33m\u001b[0m\u001b[1;33m\u001b[0m\u001b[0m\n\u001b[0m",
      "\u001b[1;31mNameError\u001b[0m: name 'img_contrast_light' is not defined"
     ]
    }
   ],
   "source": [
    "plt.imshow(img_contrast_light)"
   ]
  }
 ],
 "metadata": {
  "kernelspec": {
   "display_name": "Python 3",
   "language": "python",
   "name": "python3"
  },
  "language_info": {
   "codemirror_mode": {
    "name": "ipython",
    "version": 3
   },
   "file_extension": ".py",
   "mimetype": "text/x-python",
   "name": "python",
   "nbconvert_exporter": "python",
   "pygments_lexer": "ipython3",
   "version": "3.7.3"
  }
 },
 "nbformat": 4,
 "nbformat_minor": 2
}
